{
 "cells": [
  {
   "cell_type": "markdown",
   "metadata": {},
   "source": [
    "# Classificação de Flores Iris - Projeto Inicial de ML\n",
    "\n",
    "Neste notebook, vamos aprender os fundamentos de Machine Learning usando o famoso dataset Iris.\n",
    "\n",
    "## O que vamos aprender:\n",
    "- Carregar e explorar dados\n",
    "- Visualizar dados\n",
    "- Preparar dados (train/test split)\n",
    "- Treinar modelos de classificação\n",
    "- Avaliar performance"
   ]
  },
  {
   "cell_type": "markdown",
   "metadata": {},
   "source": [
    "## 1. Importar Bibliotecas"
   ]
  },
  {
   "cell_type": "code",
   "execution_count": null,
   "metadata": {},
   "outputs": [],
   "source": [
    "import numpy as np\n",
    "import pandas as pd\n",
    "import matplotlib.pyplot as plt\n",
    "import seaborn as sns\n",
    "from sklearn.datasets import load_iris\n",
    "from sklearn.model_selection import train_test_split\n",
    "from sklearn.preprocessing import StandardScaler\n",
    "from sklearn.tree import DecisionTreeClassifier\n",
    "from sklearn.neighbors import KNeighborsClassifier\n",
    "from sklearn.linear_model import LogisticRegression\n",
    "from sklearn.metrics import accuracy_score, classification_report, confusion_matrix\n",
    "\n",
    "# Configurar visualizações\n",
    "sns.set_style('whitegrid')\n",
    "%matplotlib inline"
   ]
  },
  {
   "cell_type": "markdown",
   "metadata": {},
   "source": [
    "## 2. Carregar os Dados"
   ]
  },
  {
   "cell_type": "code",
   "execution_count": null,
   "metadata": {},
   "outputs": [],
   "source": [
    "# Carregar dataset Iris\n",
    "iris = load_iris()\n",
    "\n",
    "# Criar DataFrame para facilitar a análise\n",
    "df = pd.DataFrame(data=iris.data, columns=iris.feature_names)\n",
    "df['species'] = iris.target\n",
    "df['species_name'] = df['species'].map({0: 'setosa', 1: 'versicolor', 2: 'virginica'})\n",
    "\n",
    "print(\"Primeiras linhas do dataset:\")\n",
    "df.head()"
   ]
  },
  {
   "cell_type": "markdown",
   "metadata": {},
   "source": [
    "## 3. Explorar os Dados"
   ]
  },
  {
   "cell_type": "code",
   "execution_count": null,
   "metadata": {},
   "outputs": [],
   "source": [
    "# Informações gerais\n",
    "print(\"Forma do dataset (linhas, colunas):\")\n",
    "print(df.shape)\n",
    "print(\"\\nInformações do dataset:\")\n",
    "print(df.info())\n",
    "print(\"\\nEstatísticas descritivas:\")\n",
    "df.describe()"
   ]
  },
  {
   "cell_type": "code",
   "execution_count": null,
   "metadata": {},
   "outputs": [],
   "source": [
    "# Verificar distribuição das classes\n",
    "print(\"Distribuição das espécies:\")\n",
    "print(df['species_name'].value_counts())\n",
    "\n",
    "# Visualizar distribuição\n",
    "plt.figure(figsize=(8, 5))\n",
    "df['species_name'].value_counts().plot(kind='bar')\n",
    "plt.title('Distribuição das Espécies de Iris')\n",
    "plt.xlabel('Espécie')\n",
    "plt.ylabel('Quantidade')\n",
    "plt.xticks(rotation=45)\n",
    "plt.show()"
   ]
  },
  {
   "cell_type": "markdown",
   "metadata": {},
   "source": [
    "## 4. Visualizar os Dados"
   ]
  },
  {
   "cell_type": "code",
   "execution_count": null,
   "metadata": {},
   "outputs": [],
   "source": [
    "# Pairplot - mostra relações entre todas as features\n",
    "sns.pairplot(df, hue='species_name', height=2.5)\n",
    "plt.suptitle('Relações entre Features do Dataset Iris', y=1.02)\n",
    "plt.show()"
   ]
  },
  {
   "cell_type": "code",
   "execution_count": null,
   "metadata": {},
   "outputs": [],
   "source": [
    "# Boxplots para cada feature\n",
    "fig, axes = plt.subplots(2, 2, figsize=(12, 10))\n",
    "fig.suptitle('Distribuição das Features por Espécie')\n",
    "\n",
    "for idx, col in enumerate(iris.feature_names):\n",
    "    ax = axes[idx // 2, idx % 2]\n",
    "    df.boxplot(column=col, by='species_name', ax=ax)\n",
    "    ax.set_title(col)\n",
    "    ax.set_xlabel('Espécie')\n",
    "    \n",
    "plt.tight_layout()\n",
    "plt.show()"
   ]
  },
  {
   "cell_type": "code",
   "execution_count": null,
   "metadata": {},
   "outputs": [],
   "source": [
    "# Matriz de correlação\n",
    "plt.figure(figsize=(10, 8))\n",
    "correlation = df[iris.feature_names].corr()\n",
    "sns.heatmap(correlation, annot=True, cmap='coolwarm', center=0)\n",
    "plt.title('Matriz de Correlação das Features')\n",
    "plt.show()"
   ]
  },
  {
   "cell_type": "markdown",
   "metadata": {},
   "source": [
    "## 5. Preparar os Dados para Treinamento"
   ]
  },
  {
   "cell_type": "code",
   "execution_count": null,
   "metadata": {},
   "outputs": [],
   "source": [
    "# Separar features (X) e target (y)\n",
    "X = iris.data\n",
    "y = iris.target\n",
    "\n",
    "print(f\"Shape de X: {X.shape}\")\n",
    "print(f\"Shape de y: {y.shape}\")\n",
    "\n",
    "# Dividir em treino e teste (80% treino, 20% teste)\n",
    "X_train, X_test, y_train, y_test = train_test_split(\n",
    "    X, y, test_size=0.2, random_state=42, stratify=y\n",
    ")\n",
    "\n",
    "print(f\"\\nDados de treino: {X_train.shape[0]} amostras\")\n",
    "print(f\"Dados de teste: {X_test.shape[0]} amostras\")"
   ]
  },
  {
   "cell_type": "code",
   "execution_count": null,
   "metadata": {},
   "outputs": [],
   "source": [
    "# Normalizar os dados (importante para alguns algoritmos)\n",
    "scaler = StandardScaler()\n",
    "X_train_scaled = scaler.fit_transform(X_train)\n",
    "X_test_scaled = scaler.transform(X_test)\n",
    "\n",
    "print(\"Dados normalizados com sucesso!\")"
   ]
  },
  {
   "cell_type": "markdown",
   "metadata": {},
   "source": [
    "## 6. Treinar Modelos de Machine Learning"
   ]
  },
  {
   "cell_type": "markdown",
   "metadata": {},
   "source": [
    "### 6.1 Decision Tree (Árvore de Decisão)"
   ]
  },
  {
   "cell_type": "code",
   "execution_count": null,
   "metadata": {},
   "outputs": [],
   "source": [
    "# Criar e treinar o modelo\n",
    "dt_model = DecisionTreeClassifier(random_state=42)\n",
    "dt_model.fit(X_train, y_train)\n",
    "\n",
    "# Fazer previsões\n",
    "y_pred_dt = dt_model.predict(X_test)\n",
    "\n",
    "# Avaliar\n",
    "accuracy_dt = accuracy_score(y_test, y_pred_dt)\n",
    "print(f\"Acurácia da Decision Tree: {accuracy_dt:.2%}\")\n",
    "print(\"\\nRelatório de Classificação:\")\n",
    "print(classification_report(y_test, y_pred_dt, target_names=iris.target_names))"
   ]
  },
  {
   "cell_type": "markdown",
   "metadata": {},
   "source": [
    "### 6.2 K-Nearest Neighbors (KNN)"
   ]
  },
  {
   "cell_type": "code",
   "execution_count": null,
   "metadata": {},
   "outputs": [],
   "source": [
    "# Criar e treinar o modelo (usando dados normalizados)\n",
    "knn_model = KNeighborsClassifier(n_neighbors=3)\n",
    "knn_model.fit(X_train_scaled, y_train)\n",
    "\n",
    "# Fazer previsões\n",
    "y_pred_knn = knn_model.predict(X_test_scaled)\n",
    "\n",
    "# Avaliar\n",
    "accuracy_knn = accuracy_score(y_test, y_pred_knn)\n",
    "print(f\"Acurácia do KNN: {accuracy_knn:.2%}\")\n",
    "print(\"\\nRelatório de Classificação:\")\n",
    "print(classification_report(y_test, y_pred_knn, target_names=iris.target_names))"
   ]
  },
  {
   "cell_type": "markdown",
   "metadata": {},
   "source": [
    "### 6.3 Logistic Regression"
   ]
  },
  {
   "cell_type": "code",
   "execution_count": null,
   "metadata": {},
   "outputs": [],
   "source": [
    "# Criar e treinar o modelo (usando dados normalizados)\n",
    "lr_model = LogisticRegression(random_state=42, max_iter=200)\n",
    "lr_model.fit(X_train_scaled, y_train)\n",
    "\n",
    "# Fazer previsões\n",
    "y_pred_lr = lr_model.predict(X_test_scaled)\n",
    "\n",
    "# Avaliar\n",
    "accuracy_lr = accuracy_score(y_test, y_pred_lr)\n",
    "print(f\"Acurácia da Logistic Regression: {accuracy_lr:.2%}\")\n",
    "print(\"\\nRelatório de Classificação:\")\n",
    "print(classification_report(y_test, y_pred_lr, target_names=iris.target_names))"
   ]
  },
  {
   "cell_type": "markdown",
   "metadata": {},
   "source": [
    "## 7. Comparar Modelos"
   ]
  },
  {
   "cell_type": "code",
   "execution_count": null,
   "metadata": {},
   "outputs": [],
   "source": [
    "# Comparar acurácias\n",
    "models_comparison = pd.DataFrame({\n",
    "    'Modelo': ['Decision Tree', 'KNN', 'Logistic Regression'],\n",
    "    'Acurácia': [accuracy_dt, accuracy_knn, accuracy_lr]\n",
    "})\n",
    "\n",
    "print(models_comparison)\n",
    "\n",
    "# Visualizar comparação\n",
    "plt.figure(figsize=(10, 6))\n",
    "plt.bar(models_comparison['Modelo'], models_comparison['Acurácia'])\n",
    "plt.title('Comparação de Acurácia dos Modelos')\n",
    "plt.ylabel('Acurácia')\n",
    "plt.ylim([0, 1.1])\n",
    "plt.xticks(rotation=45)\n",
    "for i, v in enumerate(models_comparison['Acurácia']):\n",
    "    plt.text(i, v + 0.02, f'{v:.2%}', ha='center', fontweight='bold')\n",
    "plt.show()"
   ]
  },
  {
   "cell_type": "markdown",
   "metadata": {},
   "source": [
    "## 8. Matriz de Confusão"
   ]
  },
  {
   "cell_type": "code",
   "execution_count": null,
   "metadata": {},
   "outputs": [],
   "source": [
    "# Visualizar matriz de confusão para o melhor modelo\n",
    "fig, axes = plt.subplots(1, 3, figsize=(15, 4))\n",
    "\n",
    "models_predictions = [\n",
    "    ('Decision Tree', y_pred_dt),\n",
    "    ('KNN', y_pred_knn),\n",
    "    ('Logistic Regression', y_pred_lr)\n",
    "]\n",
    "\n",
    "for idx, (name, y_pred) in enumerate(models_predictions):\n",
    "    cm = confusion_matrix(y_test, y_pred)\n",
    "    sns.heatmap(cm, annot=True, fmt='d', cmap='Blues', ax=axes[idx],\n",
    "                xticklabels=iris.target_names, yticklabels=iris.target_names)\n",
    "    axes[idx].set_title(f'Matriz de Confusão - {name}')\n",
    "    axes[idx].set_ylabel('Real')\n",
    "    axes[idx].set_xlabel('Previsto')\n",
    "\n",
    "plt.tight_layout()\n",
    "plt.show()"
   ]
  },
  {
   "cell_type": "markdown",
   "metadata": {},
   "source": [
    "## 9. Testar com Novos Dados"
   ]
  },
  {
   "cell_type": "code",
   "execution_count": null,
   "metadata": {},
   "outputs": [],
   "source": [
    "# Exemplo: prever espécie de uma nova flor\n",
    "# [sepal length, sepal width, petal length, petal width]\n",
    "nova_flor = np.array([[5.1, 3.5, 1.4, 0.2]])  # Valores típicos de uma Setosa\n",
    "\n",
    "# Normalizar\n",
    "nova_flor_scaled = scaler.transform(nova_flor)\n",
    "\n",
    "# Prever com cada modelo\n",
    "pred_dt = dt_model.predict(nova_flor)\n",
    "pred_knn = knn_model.predict(nova_flor_scaled)\n",
    "pred_lr = lr_model.predict(nova_flor_scaled)\n",
    "\n",
    "print(\"Nova flor: sepal_length=5.1, sepal_width=3.5, petal_length=1.4, petal_width=0.2\")\n",
    "print(f\"\\nPrevisão Decision Tree: {iris.target_names[pred_dt[0]]}\")\n",
    "print(f\"Previsão KNN: {iris.target_names[pred_knn[0]]}\")\n",
    "print(f\"Previsão Logistic Regression: {iris.target_names[pred_lr[0]]}\")"
   ]
  },
  {
   "cell_type": "markdown",
   "metadata": {},
   "source": [
    "## 10. Conclusões\n",
    "\n",
    "Neste notebook você aprendeu:\n",
    "- ✅ Carregar e explorar um dataset\n",
    "- ✅ Visualizar dados com gráficos\n",
    "- ✅ Preparar dados (train/test split e normalização)\n",
    "- ✅ Treinar 3 modelos diferentes de classificação\n",
    "- ✅ Avaliar e comparar modelos\n",
    "- ✅ Fazer previsões com novos dados\n",
    "\n",
    "### Próximos Passos:\n",
    "1. Experimentar com diferentes valores de hiperparâmetros (ex: n_neighbors no KNN)\n",
    "2. Testar outros algoritmos (SVM, Random Forest, etc.)\n",
    "3. Usar cross-validation para avaliação mais robusta\n",
    "4. Experimentar com feature engineering\n",
    "5. Partir para um dataset mais complexo (ex: Titanic)"
   ]
  }
 ],
 "metadata": {
  "kernelspec": {
   "display_name": "Python 3",
   "language": "python",
   "name": "python3"
  },
  "language_info": {
   "codemirror_mode": {
    "name": "ipython",
    "version": 3
   },
   "file_extension": ".py",
   "mimetype": "text/x-python",
   "name": "python",
   "nbconvert_exporter": "python",
   "pygments_lexer": "ipython3",
   "version": "3.8.0"
  }
 },
 "nbformat": 4,
 "nbformat_minor": 4
}
